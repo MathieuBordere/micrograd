{
 "cells": [
  {
   "cell_type": "code",
   "execution_count": 134,
   "id": "36d26c4e-82eb-4067-b352-75e35abf4343",
   "metadata": {},
   "outputs": [],
   "source": [
    "import math\n",
    "import numpy as np\n",
    "import matplotlib.pyplot as plt\n",
    "%matplotlib inline\n",
    "\n"
   ]
  },
  {
   "cell_type": "code",
   "execution_count": 135,
   "id": "db5d9a2c-0a38-4886-a2ec-db7b3fedb0c1",
   "metadata": {},
   "outputs": [],
   "source": [
    "def f(x):\n",
    "    return 3*x**2 - 4*x + 5"
   ]
  },
  {
   "cell_type": "code",
   "execution_count": 136,
   "id": "1949286c-1a7f-41cb-9b51-19818c45a207",
   "metadata": {},
   "outputs": [
    {
     "data": {
      "text/plain": [
       "89"
      ]
     },
     "execution_count": 136,
     "metadata": {},
     "output_type": "execute_result"
    }
   ],
   "source": [
    "f(3.1)\n",
    "f(6)\n"
   ]
  },
  {
   "cell_type": "code",
   "execution_count": 137,
   "id": "8e685827-402e-4e07-ae77-4ea99172892e",
   "metadata": {},
   "outputs": [
    {
     "data": {
      "text/plain": [
       "[<matplotlib.lines.Line2D at 0x7f1b0bf62e40>]"
      ]
     },
     "execution_count": 137,
     "metadata": {},
     "output_type": "execute_result"
    },
    {
     "data": {
      "image/png": "[encoded data removed]",
      "text/plain": [
       "<Figure size 640x480 with 1 Axes>"
      ]
     },
     "metadata": {},
     "output_type": "display_data"
    }
   ],
   "source": [
    "xs = np.arange(-5, 5, 0.25)\n",
    "ys = f(xs)\n",
    "\n",
    "plt.plot(xs, ys)"
   ]
  },
  {
   "cell_type": "code",
   "execution_count": 138,
   "id": "5bfeb439-6b12-4484-93d9-720e62ff4bae",
   "metadata": {},
   "outputs": [],
   "source": [
    "h = 0.001\n",
    "x = 3.0"
   ]
  },
  {
   "cell_type": "code",
   "execution_count": 139,
   "id": "d279e7d6-e065-446b-9455-1bb7bfde9e77",
   "metadata": {},
   "outputs": [
    {
     "data": {
      "text/plain": [
       "14.00300000000243"
      ]
     },
     "execution_count": 139,
     "metadata": {},
     "output_type": "execute_result"
    }
   ],
   "source": [
    "dfx"
   ]
  },
  {
   "cell_type": "code",
   "execution_count": 140,
   "id": "1089c44b-ab9b-4537-8573-710bccb5f952",
   "metadata": {},
   "outputs": [],
   "source": [
    "dfx = (f(x+h) - f(x)) / h "
   ]
  },
  {
   "cell_type": "code",
   "execution_count": 141,
   "id": "bc5c2d93-1a9d-471f-9fb8-fb906b999736",
   "metadata": {
    "scrolled": true
   },
   "outputs": [
    {
     "data": {
      "text/plain": [
       "14.00300000000243"
      ]
     },
     "execution_count": 141,
     "metadata": {},
     "output_type": "execute_result"
    }
   ],
   "source": [
    "dfx"
   ]
  },
  {
   "cell_type": "code",
   "execution_count": 142,
   "id": "bd3a6a12-4030-4082-b637-71cec7fad08e",
   "metadata": {},
   "outputs": [
    {
     "data": {
      "text/plain": [
       "Value(data=4.0)"
      ]
     },
     "execution_count": 142,
     "metadata": {},
     "output_type": "execute_result"
    }
   ],
   "source": [
    "class Value:\n",
    "\n",
    "    def __init__(self, data, _children={}, _op='', label=''):\n",
    "        self.data = data\n",
    "        self.grad = 0.0\n",
    "        self._prev = set(_children)\n",
    "        self._op = _op\n",
    "        self.label = label\n",
    "\n",
    "    def __repr__(self):\n",
    "        return f\"Value(data={self.data})\"\n",
    "\n",
    "    def __add__(self, other):\n",
    "        out = Value(self.data + other.data, (self, other), '+')\n",
    "        return out\n",
    "\n",
    "    def __mul__(self, other):\n",
    "        out = Value(self.data * other.data, (self, other), '*')\n",
    "        return out\n",
    "        \n",
    "a = Value(2.0, label='a')\n",
    "b = Value(-3.0, label='b')\n",
    "c = Value(10.0, label='c')\n",
    "e = a*b; e.label = 'e'\n",
    "d = e + c; d.label = 'd'\n",
    "f = Value(-2.0, label='f')\n",
    "L = d*f; L.label = 'L'\n",
    "d"
   ]
  },
  {
   "cell_type": "code",
   "execution_count": 143,
   "id": "2faf3453-8653-49e0-88f5-09859af546b9",
   "metadata": {},
   "outputs": [
    {
     "data": {
      "text/plain": [
       "Value(data=-6.0)"
      ]
     },
     "execution_count": 143,
     "metadata": {},
     "output_type": "execute_result"
    }
   ],
   "source": [
    "a * b"
   ]
  },
  {
   "cell_type": "code",
   "execution_count": 144,
   "id": "ea23ba08-e463-4a83-9517-326d7d1c5640",
   "metadata": {},
   "outputs": [],
   "source": [
    "from graphviz import Digraph\n",
    "\n",
    "def trace(root):\n",
    "  # builds a set of all nodes and edges in a graph\n",
    "  nodes, edges = set(), set()\n",
    "  def build(v):\n",
    "    if v not in nodes:\n",
    "      nodes.add(v)\n",
    "      for child in v._prev:\n",
    "        edges.add((child, v))\n",
    "        build(child)\n",
    "  build(root)\n",
    "  return nodes, edges\n",
    "\n",
    "def draw_dot(root):\n",
    "  dot = Digraph(format='svg', graph_attr={'rankdir': 'LR'}) # LR = left to right\n",
    "  \n",
    "  nodes, edges = trace(root)\n",
    "  for n in nodes:\n",
    "    uid = str(id(n))\n",
    "    # for any value in the graph, create a rectangular ('record') node for it\n",
    "    dot.node(name = uid, label = \"{ %s | data %.4f | grad %.4f}\" % (n.label, n.data, n.grad), shape='record')\n",
    "    if n._op:\n",
    "      # if this value is a result of some operation, create an op node for it\n",
    "      dot.node(name = uid + n._op, label = n._op)\n",
    "      # and connect this node to it\n",
    "      dot.edge(uid + n._op, uid)\n",
    "\n",
    "  for n1, n2 in edges:\n",
    "    # connect n1 to the op node of n2\n",
    "    dot.edge(str(id(n1)), str(id(n2)) + n2._op)\n",
    "\n",
    "  return dot\n"
   ]
  },
  {
   "cell_type": "code",
   "execution_count": 153,
   "id": "b28080d0-e539-454f-badd-2d297ee1e748",
   "metadata": {},
   "outputs": [
    {
     "data": {
      "image/svg+xml": [
       "<?xml version=\"1.0\" encoding=\"UTF-8\" standalone=\"no\"?>\n",
       "<!DOCTYPE svg PUBLIC \"-//W3C//DTD SVG 1.1//EN\"\n",
       " \"http://www.w3.org/Graphics/SVG/1.1/DTD/svg11.dtd\">\n",
       "<!-- Generated by graphviz version 9.0.0 (20230911.1827)\n",
       " -->\n",
       "<!-- Pages: 1 -->\n",
       "<svg width=\"1142pt\" height=\"128pt\"\n",
       " viewBox=\"0.00 0.00 1142.00 128.00\" xmlns=\"http://www.w3.org/2000/svg\" xmlns:xlink=\"http://www.w3.org/1999/xlink\">\n",
       "<g id=\"graph0\" class=\"graph\" transform=\"scale(1 1) rotate(0) translate(4 124)\">\n",
       "<polygon fill=\"white\" stroke=\"none\" points=\"-4,4 -4,-124 1138,-124 1138,4 -4,4\"/>\n",
       "<!-- 139754141526560 -->\n",
       "<g id=\"node1\" class=\"node\">\n",
       "<title>139754141526560</title>\n",
       "<polygon fill=\"none\" stroke=\"black\" points=\"314.25,-83.5 314.25,-119.5 504,-119.5 504,-83.5 314.25,-83.5\"/>\n",
       "<text text-anchor=\"middle\" x=\"325.25\" y=\"-96.7\" font-family=\"Times,serif\" font-size=\"14.00\">c</text>\n",
       "<polyline fill=\"none\" stroke=\"black\" points=\"336.25,-84 336.25,-119.5\"/>\n",
       "<text text-anchor=\"middle\" x=\"379.5\" y=\"-96.7\" font-family=\"Times,serif\" font-size=\"14.00\">data 10.0000</text>\n",
       "<polyline fill=\"none\" stroke=\"black\" points=\"422.75,-84 422.75,-119.5\"/>\n",
       "<text text-anchor=\"middle\" x=\"463.38\" y=\"-96.7\" font-family=\"Times,serif\" font-size=\"14.00\">grad 0.0000</text>\n",
       "</g>\n",
       "<!-- 139754097093968+ -->\n",
       "<g id=\"node8\" class=\"node\">\n",
       "<title>139754097093968+</title>\n",
       "<ellipse fill=\"none\" stroke=\"black\" cx=\"567\" cy=\"-73.5\" rx=\"27\" ry=\"18\"/>\n",
       "<text text-anchor=\"middle\" x=\"567\" y=\"-68.45\" font-family=\"Times,serif\" font-size=\"14.00\">+</text>\n",
       "</g>\n",
       "<!-- 139754141526560&#45;&gt;139754097093968+ -->\n",
       "<g id=\"edge6\" class=\"edge\">\n",
       "<title>139754141526560&#45;&gt;139754097093968+</title>\n",
       "<path fill=\"none\" stroke=\"black\" d=\"M504.39,-84.57C513.16,-82.99 521.65,-81.47 529.37,-80.08\"/>\n",
       "<polygon fill=\"black\" stroke=\"black\" points=\"529.73,-83.57 538.95,-78.36 528.49,-76.68 529.73,-83.57\"/>\n",
       "</g>\n",
       "<!-- 139754305886288 -->\n",
       "<g id=\"node2\" class=\"node\">\n",
       "<title>139754305886288</title>\n",
       "<polygon fill=\"none\" stroke=\"black\" points=\"944.25,-27.5 944.25,-63.5 1134,-63.5 1134,-27.5 944.25,-27.5\"/>\n",
       "<text text-anchor=\"middle\" x=\"956.38\" y=\"-40.7\" font-family=\"Times,serif\" font-size=\"14.00\">L</text>\n",
       "<polyline fill=\"none\" stroke=\"black\" points=\"968.5,-28 968.5,-63.5\"/>\n",
       "<text text-anchor=\"middle\" x=\"1010.62\" y=\"-40.7\" font-family=\"Times,serif\" font-size=\"14.00\">data &#45;8.0000</text>\n",
       "<polyline fill=\"none\" stroke=\"black\" points=\"1052.75,-28 1052.75,-63.5\"/>\n",
       "<text text-anchor=\"middle\" x=\"1093.38\" y=\"-40.7\" font-family=\"Times,serif\" font-size=\"14.00\">grad 1.0000</text>\n",
       "</g>\n",
       "<!-- 139754305886288* -->\n",
       "<g id=\"node3\" class=\"node\">\n",
       "<title>139754305886288*</title>\n",
       "<ellipse fill=\"none\" stroke=\"black\" cx=\"881.25\" cy=\"-45.5\" rx=\"27\" ry=\"18\"/>\n",
       "<text text-anchor=\"middle\" x=\"881.25\" y=\"-40.45\" font-family=\"Times,serif\" font-size=\"14.00\">*</text>\n",
       "</g>\n",
       "<!-- 139754305886288*&#45;&gt;139754305886288 -->\n",
       "<g id=\"edge1\" class=\"edge\">\n",
       "<title>139754305886288*&#45;&gt;139754305886288</title>\n",
       "<path fill=\"none\" stroke=\"black\" d=\"M908.69,-45.5C915.84,-45.5 924.03,-45.5 932.74,-45.5\"/>\n",
       "<polygon fill=\"black\" stroke=\"black\" points=\"932.51,-49 942.51,-45.5 932.51,-42 932.51,-49\"/>\n",
       "</g>\n",
       "<!-- 139754141531360 -->\n",
       "<g id=\"node4\" class=\"node\">\n",
       "<title>139754141531360</title>\n",
       "<polygon fill=\"none\" stroke=\"black\" points=\"315.38,-28.5 315.38,-64.5 502.88,-64.5 502.88,-28.5 315.38,-28.5\"/>\n",
       "<text text-anchor=\"middle\" x=\"326.38\" y=\"-41.7\" font-family=\"Times,serif\" font-size=\"14.00\">e</text>\n",
       "<polyline fill=\"none\" stroke=\"black\" points=\"337.38,-29 337.38,-64.5\"/>\n",
       "<text text-anchor=\"middle\" x=\"379.5\" y=\"-41.7\" font-family=\"Times,serif\" font-size=\"14.00\">data &#45;6.0000</text>\n",
       "<polyline fill=\"none\" stroke=\"black\" points=\"421.62,-29 421.62,-64.5\"/>\n",
       "<text text-anchor=\"middle\" x=\"462.25\" y=\"-41.7\" font-family=\"Times,serif\" font-size=\"14.00\">grad 0.0000</text>\n",
       "</g>\n",
       "<!-- 139754141531360&#45;&gt;139754097093968+ -->\n",
       "<g id=\"edge4\" class=\"edge\">\n",
       "<title>139754141531360&#45;&gt;139754097093968+</title>\n",
       "<path fill=\"none\" stroke=\"black\" d=\"M503.05,-62.6C512.25,-64.19 521.16,-65.73 529.24,-67.13\"/>\n",
       "<polygon fill=\"black\" stroke=\"black\" points=\"528.48,-70.55 538.93,-68.81 529.68,-63.66 528.48,-70.55\"/>\n",
       "</g>\n",
       "<!-- 139754141531360* -->\n",
       "<g id=\"node5\" class=\"node\">\n",
       "<title>139754141531360*</title>\n",
       "<ellipse fill=\"none\" stroke=\"black\" cx=\"251.25\" cy=\"-46.5\" rx=\"27\" ry=\"18\"/>\n",
       "<text text-anchor=\"middle\" x=\"251.25\" y=\"-41.45\" font-family=\"Times,serif\" font-size=\"14.00\">*</text>\n",
       "</g>\n",
       "<!-- 139754141531360*&#45;&gt;139754141531360 -->\n",
       "<g id=\"edge2\" class=\"edge\">\n",
       "<title>139754141531360*&#45;&gt;139754141531360</title>\n",
       "<path fill=\"none\" stroke=\"black\" d=\"M278.69,-46.5C286.1,-46.5 294.64,-46.5 303.71,-46.5\"/>\n",
       "<polygon fill=\"black\" stroke=\"black\" points=\"303.51,-50 313.51,-46.5 303.51,-43 303.51,-50\"/>\n",
       "</g>\n",
       "<!-- 139754141517104 -->\n",
       "<g id=\"node6\" class=\"node\">\n",
       "<title>139754141517104</title>\n",
       "<polygon fill=\"none\" stroke=\"black\" points=\"0,-56.5 0,-92.5 188.25,-92.5 188.25,-56.5 0,-56.5\"/>\n",
       "<text text-anchor=\"middle\" x=\"11.38\" y=\"-69.7\" font-family=\"Times,serif\" font-size=\"14.00\">b</text>\n",
       "<polyline fill=\"none\" stroke=\"black\" points=\"22.75,-57 22.75,-92.5\"/>\n",
       "<text text-anchor=\"middle\" x=\"64.88\" y=\"-69.7\" font-family=\"Times,serif\" font-size=\"14.00\">data &#45;3.0000</text>\n",
       "<polyline fill=\"none\" stroke=\"black\" points=\"107,-57 107,-92.5\"/>\n",
       "<text text-anchor=\"middle\" x=\"147.62\" y=\"-69.7\" font-family=\"Times,serif\" font-size=\"14.00\">grad 0.0000</text>\n",
       "</g>\n",
       "<!-- 139754141517104&#45;&gt;139754141531360* -->\n",
       "<g id=\"edge5\" class=\"edge\">\n",
       "<title>139754141517104&#45;&gt;139754141531360*</title>\n",
       "<path fill=\"none\" stroke=\"black\" d=\"M188.49,-57.65C197.36,-56.05 205.93,-54.5 213.73,-53.09\"/>\n",
       "<polygon fill=\"black\" stroke=\"black\" points=\"214.2,-56.56 223.42,-51.34 212.95,-49.68 214.2,-56.56\"/>\n",
       "</g>\n",
       "<!-- 139754097093968 -->\n",
       "<g id=\"node7\" class=\"node\">\n",
       "<title>139754097093968</title>\n",
       "<polygon fill=\"none\" stroke=\"black\" points=\"630,-55.5 630,-91.5 818.25,-91.5 818.25,-55.5 630,-55.5\"/>\n",
       "<text text-anchor=\"middle\" x=\"641.38\" y=\"-68.7\" font-family=\"Times,serif\" font-size=\"14.00\">d</text>\n",
       "<polyline fill=\"none\" stroke=\"black\" points=\"652.75,-56 652.75,-91.5\"/>\n",
       "<text text-anchor=\"middle\" x=\"692.62\" y=\"-68.7\" font-family=\"Times,serif\" font-size=\"14.00\">data 4.0000</text>\n",
       "<polyline fill=\"none\" stroke=\"black\" points=\"732.5,-56 732.5,-91.5\"/>\n",
       "<text text-anchor=\"middle\" x=\"775.38\" y=\"-68.7\" font-family=\"Times,serif\" font-size=\"14.00\">grad &#45;2.0000</text>\n",
       "</g>\n",
       "<!-- 139754097093968&#45;&gt;139754305886288* -->\n",
       "<g id=\"edge7\" class=\"edge\">\n",
       "<title>139754097093968&#45;&gt;139754305886288*</title>\n",
       "<path fill=\"none\" stroke=\"black\" d=\"M818.49,-56.65C827.36,-55.05 835.93,-53.5 843.73,-52.09\"/>\n",
       "<polygon fill=\"black\" stroke=\"black\" points=\"844.2,-55.56 853.42,-50.34 842.95,-48.68 844.2,-55.56\"/>\n",
       "</g>\n",
       "<!-- 139754097093968+&#45;&gt;139754097093968 -->\n",
       "<g id=\"edge3\" class=\"edge\">\n",
       "<title>139754097093968+&#45;&gt;139754097093968</title>\n",
       "<path fill=\"none\" stroke=\"black\" d=\"M594.31,-73.5C601.49,-73.5 609.72,-73.5 618.47,-73.5\"/>\n",
       "<polygon fill=\"black\" stroke=\"black\" points=\"618.29,-77 628.29,-73.5 618.29,-70 618.29,-77\"/>\n",
       "</g>\n",
       "<!-- 139754097094016 -->\n",
       "<g id=\"node9\" class=\"node\">\n",
       "<title>139754097094016</title>\n",
       "<polygon fill=\"none\" stroke=\"black\" points=\"631.12,-0.5 631.12,-36.5 817.12,-36.5 817.12,-0.5 631.12,-0.5\"/>\n",
       "<text text-anchor=\"middle\" x=\"641.38\" y=\"-13.7\" font-family=\"Times,serif\" font-size=\"14.00\">f</text>\n",
       "<polyline fill=\"none\" stroke=\"black\" points=\"651.62,-1 651.62,-36.5\"/>\n",
       "<text text-anchor=\"middle\" x=\"693.75\" y=\"-13.7\" font-family=\"Times,serif\" font-size=\"14.00\">data &#45;2.0000</text>\n",
       "<polyline fill=\"none\" stroke=\"black\" points=\"735.88,-1 735.88,-36.5\"/>\n",
       "<text text-anchor=\"middle\" x=\"776.5\" y=\"-13.7\" font-family=\"Times,serif\" font-size=\"14.00\">grad 4.0000</text>\n",
       "</g>\n",
       "<!-- 139754097094016&#45;&gt;139754305886288* -->\n",
       "<g id=\"edge9\" class=\"edge\">\n",
       "<title>139754097094016&#45;&gt;139754305886288*</title>\n",
       "<path fill=\"none\" stroke=\"black\" d=\"M817.6,-34.6C826.76,-36.19 835.62,-37.73 843.67,-39.13\"/>\n",
       "<polygon fill=\"black\" stroke=\"black\" points=\"842.85,-42.54 853.3,-40.81 844.05,-35.65 842.85,-42.54\"/>\n",
       "</g>\n",
       "<!-- 139754304896944 -->\n",
       "<g id=\"node10\" class=\"node\">\n",
       "<title>139754304896944</title>\n",
       "<polygon fill=\"none\" stroke=\"black\" points=\"2.62,-1.5 2.62,-37.5 185.62,-37.5 185.62,-1.5 2.62,-1.5\"/>\n",
       "<text text-anchor=\"middle\" x=\"13.62\" y=\"-14.7\" font-family=\"Times,serif\" font-size=\"14.00\">a</text>\n",
       "<polyline fill=\"none\" stroke=\"black\" points=\"24.62,-2 24.62,-37.5\"/>\n",
       "<text text-anchor=\"middle\" x=\"64.5\" y=\"-14.7\" font-family=\"Times,serif\" font-size=\"14.00\">data 2.0000</text>\n",
       "<polyline fill=\"none\" stroke=\"black\" points=\"104.38,-2 104.38,-37.5\"/>\n",
       "<text text-anchor=\"middle\" x=\"145\" y=\"-14.7\" font-family=\"Times,serif\" font-size=\"14.00\">grad 0.0000</text>\n",
       "</g>\n",
       "<!-- 139754304896944&#45;&gt;139754141531360* -->\n",
       "<g id=\"edge8\" class=\"edge\">\n",
       "<title>139754304896944&#45;&gt;139754141531360*</title>\n",
       "<path fill=\"none\" stroke=\"black\" d=\"M185.81,-35.28C195.45,-36.96 204.82,-38.59 213.29,-40.07\"/>\n",
       "<polygon fill=\"black\" stroke=\"black\" points=\"212.65,-43.51 223.1,-41.77 213.85,-36.61 212.65,-43.51\"/>\n",
       "</g>\n",
       "</g>\n",
       "</svg>\n"
      ],
      "text/plain": [
       "<graphviz.graphs.Digraph at 0x7f1b14073e90>"
      ]
     },
     "execution_count": 153,
     "metadata": {},
     "output_type": "execute_result"
    }
   ],
   "source": [
    "draw_dot(L)"
   ]
  },
  {
   "cell_type": "code",
   "execution_count": 152,
   "id": "88ec6f4f-cfcc-4aad-8e15-463e424f8a6c",
   "metadata": {},
   "outputs": [],
   "source": [
    "L.grad = 1.0\n",
    "f.grad = 4.0\n",
    "d.grad = -2.0"
   ]
  },
  {
   "cell_type": "code",
   "execution_count": 148,
   "id": "d7fa6bbe-d4b1-4a7c-a140-dc1d1b825a02",
   "metadata": {},
   "outputs": [
    {
     "name": "stdout",
     "output_type": "stream",
     "text": [
      "0.9999999999976694\n"
     ]
    }
   ],
   "source": [
    "def lol():\n",
    "    h = 0.0001\n",
    "    \n",
    "    a = Value(2.0, label='a')\n",
    "    b = Value(-3.0, label='b')\n",
    "    c = Value(10.0, label='c')\n",
    "    e = a*b; e.label = 'e'\n",
    "    d = e + c; d.label = 'd'\n",
    "    f = Value(-2.0, label='f')\n",
    "    L = d*f; L.label = 'L'\n",
    "    L1 = L.data\n",
    "\n",
    "    a = Value(2.0 + h, label='a')\n",
    "    b = Value(-3.0, label='b')\n",
    "    c = Value(10.0, label='c')\n",
    "    e = a*b; e.label = 'e'\n",
    "    d = e + c; d.label = 'd'\n",
    "    f = Value(-2.0, label='f')\n",
    "    L = d*f; L.label = 'L'\n",
    "    L2 = L.data + h\n",
    "\n",
    "    print((L2 - L1)/h)\n",
    "lol()"
   ]
  },
  {
   "cell_type": "code",
   "execution_count": null,
   "id": "96868880-2fd9-4f09-ae8e-a64fd1b166a8",
   "metadata": {},
   "outputs": [],
   "source": []
  }
 ],
 "metadata": {
  "kernelspec": {
   "display_name": "Python 3 (ipykernel)",
   "language": "python",
   "name": "python3"
  },
  "language_info": {
   "codemirror_mode": {
    "name": "ipython",
    "version": 3
   },
   "file_extension": ".py",
   "mimetype": "text/x-python",
   "name": "python",
   "nbconvert_exporter": "python",
   "pygments_lexer": "ipython3",
   "version": "3.12.3"
  }
 },
 "nbformat": 4,
 "nbformat_minor": 5
}
